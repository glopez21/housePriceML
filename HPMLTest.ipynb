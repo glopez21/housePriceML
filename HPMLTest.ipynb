{
  "nbformat": 4,
  "nbformat_minor": 0,
  "metadata": {
    "colab": {
      "provenance": []
    },
    "kernelspec": {
      "name": "python3",
      "display_name": "Python 3"
    },
    "language_info": {
      "name": "python"
    }
  },
  "cells": [
    {
      "cell_type": "code",
      "execution_count": 1,
      "metadata": {
        "id": "VB2JOAH_SkmG"
      },
      "outputs": [],
      "source": [
        "import numpy as np\n",
        "import pickle"
      ]
    },
    {
      "cell_type": "code",
      "source": [
        "model = pickle.load(open('/content/drive/MyDrive/LaGuardia Classes/Sprint 2024 Predictive Analytics/Projects/House Price Prediction/model.pkl', 'rb'))"
      ],
      "metadata": {
        "id": "9FkUDDp3S1vF"
      },
      "execution_count": 2,
      "outputs": []
    },
    {
      "cell_type": "code",
      "source": [
        "test_x = np.zeros((1, 4))\n",
        "test_x"
      ],
      "metadata": {
        "colab": {
          "base_uri": "https://localhost:8080/"
        },
        "id": "sFIl_VLzTbUI",
        "outputId": "0a61ce76-a6ed-46a5-f507-492ba24a3f47"
      },
      "execution_count": 3,
      "outputs": [
        {
          "output_type": "execute_result",
          "data": {
            "text/plain": [
              "array([[0., 0., 0., 0.]])"
            ]
          },
          "metadata": {},
          "execution_count": 3
        }
      ]
    },
    {
      "cell_type": "code",
      "source": [
        "test_x[0, 0] = 1180         # sqft_living   -- int\n",
        "test_x[0, 1] = 3            # bedrooms      -- int\n",
        "test_x[0, 2] = 1.0          # bathrooms     -- float\n",
        "test_x[0, 3] = 1.0           # floors        -- Float"
      ],
      "metadata": {
        "id": "McblbgGdThUh"
      },
      "execution_count": 4,
      "outputs": []
    },
    {
      "cell_type": "code",
      "source": [
        "prediction = model.predict(test_x)\n",
        "print(f'The model {model} predicts a price for a house of ${round(float(prediction[0]), 2)}')"
      ],
      "metadata": {
        "colab": {
          "base_uri": "https://localhost:8080/"
        },
        "id": "-8wuimDTTlIr",
        "outputId": "6fd9c90d-45be-4bf0-c325-674d338c1134"
      },
      "execution_count": 5,
      "outputs": [
        {
          "output_type": "stream",
          "name": "stdout",
          "text": [
            "The model RandomForestRegressor() predicts a price for a house of $277180.13\n"
          ]
        }
      ]
    },
    {
      "cell_type": "code",
      "source": [],
      "metadata": {
        "id": "6_4FJUfdTuNk"
      },
      "execution_count": null,
      "outputs": []
    }
  ]
}